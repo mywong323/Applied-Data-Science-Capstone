{
 "cells": [
  {
   "cell_type": "markdown",
   "metadata": {},
   "source": [
    "# Capstone Project - The Battle of Restaurants in Hong Kong\n",
    "### Applied Data Science Capstone by IBM/Coursera\n",
    "#### Wong Man Yan"
   ]
  },
  {
   "cell_type": "markdown",
   "metadata": {},
   "source": [
    "## Table of contents\n",
    "* [Introduction: Business Problem](#introduction)\n",
    "* [Data](#data)\n",
    "* [Methodology](#methodology)\n",
    "* [Analysis](#analysis)\n",
    "* [Results and Discussion](#results)\n",
    "* [Conclusion](#conclusion)"
   ]
  },
  {
   "cell_type": "markdown",
   "metadata": {},
   "source": [
    "## Introduction: Business Problem <a name=\"introduction\"></a>"
   ]
  },
  {
   "cell_type": "markdown",
   "metadata": {},
   "source": [
    "Hong Kong, which is an international city in the world, that a huge flow of people are coming and leaving Hong Kong everyday. As a result, Hong Kong includes different countries of people and each place may have its own cultures. The diveristy of culture forms different restaurants with different foods from different countries and cities. Not only Hong Kong local food, it also includes Chinese food, Korean food, Indian food while it also has western food. There is not only one or two restaurant for a specific type, for each kind of food, both have a certain amount of  restaurants providing food for people. Different kinds of restaurants can provide different foods which suit everyone's culture and let them can eat their country's food in Hong Kong. Also, it can let other people in Hong Kong try different types of food around the world.\n",
    "\n",
    "Even though Hong Kong is an international city, it is only a small place, however, it contains a huge amount of restaurants with different foods. As a result, through this project, I would like to investigate the most popular restaurant in Hong Kong, and choose a best place for opening a restaurant in Hong Kong, with the following kind of food."
   ]
  },
  {
   "cell_type": "markdown",
   "metadata": {},
   "source": [
    "### Business Problem\n",
    "\n",
    "Assuming we are investors, and we want to open a new restaurant in Hong Kong, however, the main point is that we should decide the location that where should we open the restaurant and the type of food that which kind of the restaurant should we open.\n",
    "\n",
    "To solve the above problem, the first thing is that we need to know the restaurant situation in Hong Kong. We need to know how many restaurant in Hong Kong and which district has the largest number of restaurants. \n",
    "Secondly, we would like to know how many type of food in Hong Kong with the most popular food type.\n",
    "Thirdly, we need to know what is the most popular restaurant in Hong Kong that whether we should open the same type of food.\n",
    "\n",
    "Through the above process with doing the steps by steps can help we know more about restaurant situation in Hong Kong and decide where should we open the restaurant with the specific food.\n",
    "\n",
    "### Problem Statement\n",
    "1. Hoow many restaurant in Hong Kong?\n",
    "2. Which district has the largest number of restaurants?\n",
    "3. How many type of food in Hong Kong?\n",
    "4. What is most popular food type?\n",
    "5. What is the most popular restaurant in Hong Kong that\n",
    "6. Should we open the same type of food?\n",
    "7. Where should we open the restaurant and which food should we provide?"
   ]
  },
  {
   "cell_type": "markdown",
   "metadata": {},
   "source": [
    "## Data <a name=\"data\"></a>"
   ]
  },
  {
   "cell_type": "markdown",
   "metadata": {},
   "source": [
    "To investigate the restaurants in Hong Kong, some dataset must be required.\n",
    "The following will be the data that will be used in the project.\n",
    "\n",
    "#### 1. Hong Kong districts name with the following locations\n",
    "* As Hong Kong has 18 districts, we need to obtain the districts name and the following location which are the latitude and longitude of these districts\n",
    "\n",
    "#### 2. Restaurants in Hong Kong with location, name, categories"
   ]
  }
 ],
 "metadata": {
  "kernelspec": {
   "display_name": "Python 3",
   "language": "python",
   "name": "python3"
  },
  "language_info": {
   "codemirror_mode": {
    "name": "ipython",
    "version": 3
   },
   "file_extension": ".py",
   "mimetype": "text/x-python",
   "name": "python",
   "nbconvert_exporter": "python",
   "pygments_lexer": "ipython3",
   "version": "3.8.3"
  }
 },
 "nbformat": 4,
 "nbformat_minor": 4
}
