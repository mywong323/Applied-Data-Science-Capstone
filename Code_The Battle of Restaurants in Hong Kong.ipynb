{
 "cells": [
  {
   "cell_type": "markdown",
   "metadata": {},
   "source": [
    "# Capstone Project - The Battle of Restaurants in Hong Kong\n",
    "### Applied Data Science Capstone by IBM/Coursera\n",
    "#### Wong Man Yan"
   ]
  },
  {
   "cell_type": "markdown",
   "metadata": {},
   "source": [
    "## Table of contents\n",
    "* [Introduction: Business Problem](#introduction)\n",
    "* [Data](#data)\n",
    "* [Methodology](#methodology)\n",
    "* [Analysis](#analysis)\n",
    "* [Results and Discussion](#results)\n",
    "* [Conclusion](#conclusion)"
   ]
  },
  {
   "cell_type": "markdown",
   "metadata": {},
   "source": [
    "## Introduction: Business Problem <a name=\"introduction\"></a>"
   ]
  },
  {
   "cell_type": "markdown",
   "metadata": {},
   "source": [
    "Hong Kong, which is an international city in the world, has a huge flow of people coming and leaving Hong Kong everyday. As a result, Hong Kong includes different countries of people and each place may have its own cultures. The diversity of culture forms different restaurants with different foods from different countries and cities. Not only Hong Kong local food, it also includes Chinese food, Korean food, Indian food while it also has western food. There are not only one or two restaurants for a specific type, for each kind of food, both have a certain amount of restaurants providing food for people. Different kinds of restaurants can provide different foods which suit everyone's culture and let them eat their country's food in Hong Kong. Also, it can let other people in Hong Kong try different types of food around the world.\n",
    "Even though Hong Kong is an international city, it is only a small place, however, it contains a huge amount of restaurants with different foods. As a result, through this project, I would like to investigate the most popular restaurant in Hong Kong, and choose the best place for opening a restaurant in Hong Kong, with the following kind of food.\n"
   ]
  },
  {
   "cell_type": "markdown",
   "metadata": {},
   "source": [
    "### Business Problem\n",
    "\n",
    "Assuming we are investors, and we want to open a new restaurant in Hong Kong, however, the main point is that we should decide the location where we should open the restaurant and which type of food we should open.\n",
    " \n",
    "To solve the above problem, the first thing is that we need to know the restaurant situation in Hong Kong. We need to know how many restaurants in Hong Kong and which district has the largest number of restaurants. \n",
    "Secondly, we would like to know how many types of food in Hong Kong with the most popular food type.\n",
    "Thirdly, we need to know what is the most popular restaurant in Hong Kong and whether we should open the same type of food.\n",
    " \n",
    "Through the above process, doing the steps step by step can help us know more about the restaurant situation in Hong Kong and decide where we should open the restaurant with the specific food.\n",
    "\n",
    "\n",
    "### Problem Statement\n",
    "1. How many restaurants in Hong Kong?\n",
    "2. Which district has the largest number of restaurants?\n",
    "3. How many types of food in Hong Kong?\n",
    "4. What is the most popular food type?\n",
    "5. What is the most popular restaurant in Hong Kong?\n",
    "6. Where should we open the restaurant?\n",
    "7. Which food should we provide?"
   ]
  },
  {
   "cell_type": "markdown",
   "metadata": {},
   "source": [
    "## Data <a name=\"data\"></a>"
   ]
  },
  {
   "cell_type": "markdown",
   "metadata": {},
   "source": [
    "To investigate the restaurants in Hong Kong, some dataset must be required.\n",
    "The following will be the data that will be used in the project.\n",
    "\n",
    "#### 1. Hong Kong districts name with the following locations\n",
    "* As Hong Kong has 18 districts, we need to obtain the districts name and the following location which are the latitude and longitude of these districts.\n",
    "\n",
    "#### 2. Restaurants in Hong Kong with location, name, categories\n",
    "* We need to obtain the restaurants location, name, id, categories, etc for analysing the result."
   ]
  },
  {
   "cell_type": "markdown",
   "metadata": {},
   "source": [
    "## Methodology <a name=\"methodology\"></a>\n",
    "1. For Hong Kong districts data, it will be collected through https://www.geodatos.net/en/coordinates/hong-kong which contains the districts name of Hong Kong with the corresponding coordinates\n",
    "\n",
    "2. For information of restaurants in Hong Kong, these data will be collected through FourSquare api."
   ]
  },
  {
   "cell_type": "code",
   "execution_count": 1,
   "metadata": {},
   "outputs": [],
   "source": [
    "import pandas as pd\n",
    "import numpy as np\n",
    "import json\n",
    "from geopy.geocoders import Nominatim\n",
    "import requests\n",
    "from pandas.io.json import json_normalize\n",
    "import matplotlib.cm as cm\n",
    "import matplotlib.colors as colors\n",
    "from sklearn.cluster import KMeans\n",
    "import folium\n",
    "import matplotlib.pyplot as plt\n",
    "import matplotlib.cm as cm\n",
    "import matplotlib.colors as colors\n",
    "%matplotlib inline\n",
    "import seaborn as sns"
   ]
  },
  {
   "cell_type": "code",
   "execution_count": 171,
   "metadata": {},
   "outputs": [],
   "source": [
    "def geo_location(address):\n",
    "    # get geo location of address\n",
    "    geolocator = Nominatim(user_agent=\"foursquare_agent\")\n",
    "    location = geolocator.geocode(address)\n",
    "    latitude = location.latitude\n",
    "    longitude = location.longitude\n",
    "    return latitude,longitude\n",
    "\n",
    "def get_venues(lat,lng):\n",
    "    #set variables\n",
    "    radius=400\n",
    "    LIMIT=100\n",
    "    #url to fetch data from foursquare api\n",
    "    url = 'https://api.foursquare.com/v2/venues/explore?&client_id={}&client_secret={}&v={}&ll={},{}&radius={}&limit={}&query=food'.format(\n",
    "            CLIENT_ID, \n",
    "            CLIENT_SECRET, \n",
    "            VERSION, \n",
    "            lat, \n",
    "            lng, \n",
    "            radius, \n",
    "            LIMIT)\n",
    "    # get all the data\n",
    "    results = requests.get(url).json()\n",
    "    venue_data=results['response']['groups'][0]['items']\n",
    "    venue_details=[]\n",
    "    for row in venue_data:\n",
    "        try:\n",
    "            venue_id=row['venue']['id']\n",
    "            venue_name=row['venue']['name']\n",
    "            venue_category=row['venue']['categories'][0]['name']\n",
    "            venue_details.append([venue_id,venue_name,venue_category])\n",
    "        except KeyError:\n",
    "            pass\n",
    "    column_names=['ID','Name','Category']\n",
    "    df = pd.DataFrame(venue_details,columns=column_names)\n",
    "    return df\n",
    "\n",
    "def get_venue_details(venue_id):\n",
    "    #url to fetch data from foursquare api\n",
    "    url = 'https://api.foursquare.com/v2/venues/{}?&client_id={}&client_secret={}&v={}'.format(\n",
    "            venue_id,\n",
    "            CLIENT_ID, \n",
    "            CLIENT_SECRET, \n",
    "            VERSION)\n",
    "    # get all the data\n",
    "    results = requests.get(url).json()\n",
    "    store.append(results)"
   ]
  },
  {
   "cell_type": "markdown",
   "metadata": {},
   "source": [
    "### Get data of districts in Hong Kong"
   ]
  },
  {
   "cell_type": "code",
   "execution_count": 3,
   "metadata": {},
   "outputs": [
    {
     "data": {
      "text/html": [
       "<div>\n",
       "<style scoped>\n",
       "    .dataframe tbody tr th:only-of-type {\n",
       "        vertical-align: middle;\n",
       "    }\n",
       "\n",
       "    .dataframe tbody tr th {\n",
       "        vertical-align: top;\n",
       "    }\n",
       "\n",
       "    .dataframe thead th {\n",
       "        text-align: right;\n",
       "    }\n",
       "</style>\n",
       "<table border=\"1\" class=\"dataframe\">\n",
       "  <thead>\n",
       "    <tr style=\"text-align: right;\">\n",
       "      <th></th>\n",
       "      <th>District</th>\n",
       "      <th>Coordinates</th>\n",
       "    </tr>\n",
       "  </thead>\n",
       "  <tbody>\n",
       "    <tr>\n",
       "      <th>0</th>\n",
       "      <td>Hong Kong</td>\n",
       "      <td>22.27832, 114.17469</td>\n",
       "    </tr>\n",
       "    <tr>\n",
       "      <th>1</th>\n",
       "      <td>Kowloon</td>\n",
       "      <td>22.31667, 114.18333</td>\n",
       "    </tr>\n",
       "    <tr>\n",
       "      <th>2</th>\n",
       "      <td>Tsuen Wan</td>\n",
       "      <td>22.37137, 114.11329</td>\n",
       "    </tr>\n",
       "    <tr>\n",
       "      <th>3</th>\n",
       "      <td>Yuen Long Kau Hui</td>\n",
       "      <td>22.45, 114.03333</td>\n",
       "    </tr>\n",
       "    <tr>\n",
       "      <th>4</th>\n",
       "      <td>Tung Chung</td>\n",
       "      <td>22.28783, 113.94243</td>\n",
       "    </tr>\n",
       "    <tr>\n",
       "      <th>5</th>\n",
       "      <td>Sha Tin</td>\n",
       "      <td>22.38333, 114.18333</td>\n",
       "    </tr>\n",
       "    <tr>\n",
       "      <th>6</th>\n",
       "      <td>Tuen Mun</td>\n",
       "      <td>22.39175, 113.97157</td>\n",
       "    </tr>\n",
       "    <tr>\n",
       "      <th>7</th>\n",
       "      <td>Tai Po</td>\n",
       "      <td>22.45007, 114.16877</td>\n",
       "    </tr>\n",
       "    <tr>\n",
       "      <th>8</th>\n",
       "      <td>Sai Kung</td>\n",
       "      <td>22.38333, 114.26667</td>\n",
       "    </tr>\n",
       "    <tr>\n",
       "      <th>9</th>\n",
       "      <td>Yung Shue Wan</td>\n",
       "      <td>22.22623, 114.11241</td>\n",
       "    </tr>\n",
       "    <tr>\n",
       "      <th>10</th>\n",
       "      <td>Ngong Ping</td>\n",
       "      <td>22.25556, 113.90391</td>\n",
       "    </tr>\n",
       "    <tr>\n",
       "      <th>11</th>\n",
       "      <td>Sok Kwu Wan</td>\n",
       "      <td>22.20453, 114.13159</td>\n",
       "    </tr>\n",
       "    <tr>\n",
       "      <th>12</th>\n",
       "      <td>Tai O</td>\n",
       "      <td>22.25515, 113.86309</td>\n",
       "    </tr>\n",
       "    <tr>\n",
       "      <th>13</th>\n",
       "      <td>Central</td>\n",
       "      <td>22.28299, 114.15846</td>\n",
       "    </tr>\n",
       "    <tr>\n",
       "      <th>14</th>\n",
       "      <td>Wan Chai</td>\n",
       "      <td>22.28142, 114.17258</td>\n",
       "    </tr>\n",
       "    <tr>\n",
       "      <th>15</th>\n",
       "      <td>Sham Shui Po</td>\n",
       "      <td>22.33023, 114.15945</td>\n",
       "    </tr>\n",
       "    <tr>\n",
       "      <th>16</th>\n",
       "      <td>Wong Tai Sin</td>\n",
       "      <td>22.35, 114.18333</td>\n",
       "    </tr>\n",
       "  </tbody>\n",
       "</table>\n",
       "</div>"
      ],
      "text/plain": [
       "             District          Coordinates\n",
       "0           Hong Kong  22.27832, 114.17469\n",
       "1             Kowloon  22.31667, 114.18333\n",
       "2           Tsuen Wan  22.37137, 114.11329\n",
       "3   Yuen Long Kau Hui     22.45, 114.03333\n",
       "4          Tung Chung  22.28783, 113.94243\n",
       "5             Sha Tin  22.38333, 114.18333\n",
       "6            Tuen Mun  22.39175, 113.97157\n",
       "7              Tai Po  22.45007, 114.16877\n",
       "8            Sai Kung  22.38333, 114.26667\n",
       "9       Yung Shue Wan  22.22623, 114.11241\n",
       "10         Ngong Ping  22.25556, 113.90391\n",
       "11        Sok Kwu Wan  22.20453, 114.13159\n",
       "12              Tai O  22.25515, 113.86309\n",
       "13            Central  22.28299, 114.15846\n",
       "14           Wan Chai  22.28142, 114.17258\n",
       "15       Sham Shui Po  22.33023, 114.15945\n",
       "16       Wong Tai Sin     22.35, 114.18333"
      ]
     },
     "execution_count": 3,
     "metadata": {},
     "output_type": "execute_result"
    }
   ],
   "source": [
    "#Getting the geographical coordinates from csv files\n",
    "df = pd.read_csv('HKDistricts.csv')\n",
    "df"
   ]
  },
  {
   "cell_type": "code",
   "execution_count": 4,
   "metadata": {},
   "outputs": [
    {
     "data": {
      "text/html": [
       "<div>\n",
       "<style scoped>\n",
       "    .dataframe tbody tr th:only-of-type {\n",
       "        vertical-align: middle;\n",
       "    }\n",
       "\n",
       "    .dataframe tbody tr th {\n",
       "        vertical-align: top;\n",
       "    }\n",
       "\n",
       "    .dataframe thead th {\n",
       "        text-align: right;\n",
       "    }\n",
       "</style>\n",
       "<table border=\"1\" class=\"dataframe\">\n",
       "  <thead>\n",
       "    <tr style=\"text-align: right;\">\n",
       "      <th></th>\n",
       "      <th>District</th>\n",
       "      <th>Coordinates</th>\n",
       "      <th>Latitude</th>\n",
       "      <th>Longitude</th>\n",
       "    </tr>\n",
       "  </thead>\n",
       "  <tbody>\n",
       "    <tr>\n",
       "      <th>0</th>\n",
       "      <td>Hong Kong</td>\n",
       "      <td>22.27832, 114.17469</td>\n",
       "      <td>22.27832</td>\n",
       "      <td>114.17469</td>\n",
       "    </tr>\n",
       "    <tr>\n",
       "      <th>1</th>\n",
       "      <td>Kowloon</td>\n",
       "      <td>22.31667, 114.18333</td>\n",
       "      <td>22.31667</td>\n",
       "      <td>114.18333</td>\n",
       "    </tr>\n",
       "    <tr>\n",
       "      <th>2</th>\n",
       "      <td>Tsuen Wan</td>\n",
       "      <td>22.37137, 114.11329</td>\n",
       "      <td>22.37137</td>\n",
       "      <td>114.11329</td>\n",
       "    </tr>\n",
       "    <tr>\n",
       "      <th>3</th>\n",
       "      <td>Yuen Long Kau Hui</td>\n",
       "      <td>22.45, 114.03333</td>\n",
       "      <td>22.45000</td>\n",
       "      <td>114.03333</td>\n",
       "    </tr>\n",
       "    <tr>\n",
       "      <th>4</th>\n",
       "      <td>Tung Chung</td>\n",
       "      <td>22.28783, 113.94243</td>\n",
       "      <td>22.28783</td>\n",
       "      <td>113.94243</td>\n",
       "    </tr>\n",
       "    <tr>\n",
       "      <th>5</th>\n",
       "      <td>Sha Tin</td>\n",
       "      <td>22.38333, 114.18333</td>\n",
       "      <td>22.38333</td>\n",
       "      <td>114.18333</td>\n",
       "    </tr>\n",
       "    <tr>\n",
       "      <th>6</th>\n",
       "      <td>Tuen Mun</td>\n",
       "      <td>22.39175, 113.97157</td>\n",
       "      <td>22.39175</td>\n",
       "      <td>113.97157</td>\n",
       "    </tr>\n",
       "    <tr>\n",
       "      <th>7</th>\n",
       "      <td>Tai Po</td>\n",
       "      <td>22.45007, 114.16877</td>\n",
       "      <td>22.45007</td>\n",
       "      <td>114.16877</td>\n",
       "    </tr>\n",
       "    <tr>\n",
       "      <th>8</th>\n",
       "      <td>Sai Kung</td>\n",
       "      <td>22.38333, 114.26667</td>\n",
       "      <td>22.38333</td>\n",
       "      <td>114.26667</td>\n",
       "    </tr>\n",
       "    <tr>\n",
       "      <th>9</th>\n",
       "      <td>Yung Shue Wan</td>\n",
       "      <td>22.22623, 114.11241</td>\n",
       "      <td>22.22623</td>\n",
       "      <td>114.11241</td>\n",
       "    </tr>\n",
       "    <tr>\n",
       "      <th>10</th>\n",
       "      <td>Ngong Ping</td>\n",
       "      <td>22.25556, 113.90391</td>\n",
       "      <td>22.25556</td>\n",
       "      <td>113.90391</td>\n",
       "    </tr>\n",
       "    <tr>\n",
       "      <th>11</th>\n",
       "      <td>Sok Kwu Wan</td>\n",
       "      <td>22.20453, 114.13159</td>\n",
       "      <td>22.20453</td>\n",
       "      <td>114.13159</td>\n",
       "    </tr>\n",
       "    <tr>\n",
       "      <th>12</th>\n",
       "      <td>Tai O</td>\n",
       "      <td>22.25515, 113.86309</td>\n",
       "      <td>22.25515</td>\n",
       "      <td>113.86309</td>\n",
       "    </tr>\n",
       "    <tr>\n",
       "      <th>13</th>\n",
       "      <td>Central</td>\n",
       "      <td>22.28299, 114.15846</td>\n",
       "      <td>22.28299</td>\n",
       "      <td>114.15846</td>\n",
       "    </tr>\n",
       "    <tr>\n",
       "      <th>14</th>\n",
       "      <td>Wan Chai</td>\n",
       "      <td>22.28142, 114.17258</td>\n",
       "      <td>22.28142</td>\n",
       "      <td>114.17258</td>\n",
       "    </tr>\n",
       "    <tr>\n",
       "      <th>15</th>\n",
       "      <td>Sham Shui Po</td>\n",
       "      <td>22.33023, 114.15945</td>\n",
       "      <td>22.33023</td>\n",
       "      <td>114.15945</td>\n",
       "    </tr>\n",
       "    <tr>\n",
       "      <th>16</th>\n",
       "      <td>Wong Tai Sin</td>\n",
       "      <td>22.35, 114.18333</td>\n",
       "      <td>22.35000</td>\n",
       "      <td>114.18333</td>\n",
       "    </tr>\n",
       "  </tbody>\n",
       "</table>\n",
       "</div>"
      ],
      "text/plain": [
       "             District          Coordinates  Latitude  Longitude\n",
       "0           Hong Kong  22.27832, 114.17469  22.27832  114.17469\n",
       "1             Kowloon  22.31667, 114.18333  22.31667  114.18333\n",
       "2           Tsuen Wan  22.37137, 114.11329  22.37137  114.11329\n",
       "3   Yuen Long Kau Hui     22.45, 114.03333  22.45000  114.03333\n",
       "4          Tung Chung  22.28783, 113.94243  22.28783  113.94243\n",
       "5             Sha Tin  22.38333, 114.18333  22.38333  114.18333\n",
       "6            Tuen Mun  22.39175, 113.97157  22.39175  113.97157\n",
       "7              Tai Po  22.45007, 114.16877  22.45007  114.16877\n",
       "8            Sai Kung  22.38333, 114.26667  22.38333  114.26667\n",
       "9       Yung Shue Wan  22.22623, 114.11241  22.22623  114.11241\n",
       "10         Ngong Ping  22.25556, 113.90391  22.25556  113.90391\n",
       "11        Sok Kwu Wan  22.20453, 114.13159  22.20453  114.13159\n",
       "12              Tai O  22.25515, 113.86309  22.25515  113.86309\n",
       "13            Central  22.28299, 114.15846  22.28299  114.15846\n",
       "14           Wan Chai  22.28142, 114.17258  22.28142  114.17258\n",
       "15       Sham Shui Po  22.33023, 114.15945  22.33023  114.15945\n",
       "16       Wong Tai Sin     22.35, 114.18333  22.35000  114.18333"
      ]
     },
     "execution_count": 4,
     "metadata": {},
     "output_type": "execute_result"
    }
   ],
   "source": [
    "#Split the coordinates into latitude & longtitude\n",
    "df[['Latitude','Longitude']] = df['Coordinates'].str.split(', ',expand=True)\n",
    "df['Latitude'] = df['Latitude'].astype('float')\n",
    "df['Longitude'] = df['Longitude'].astype('float')\n",
    "df"
   ]
  },
  {
   "cell_type": "markdown",
   "metadata": {},
   "source": [
    "### Get data of restaurants in Hong Kong"
   ]
  },
  {
   "cell_type": "code",
   "execution_count": 237,
   "metadata": {},
   "outputs": [
    {
     "name": "stdout",
     "output_type": "stream",
     "text": [
      "Your credentails:\n",
      "CLIENT_ID: \n",
      "CLIENT_SECRET:\n"
     ]
    }
   ],
   "source": [
    "CLIENT_ID = '' #Hidden\n",
    "CLIENT_SECRET = '' #Hidden\n",
    "VERSION = '20180605'\n",
    "LIMIT = 100\n",
    "\n",
    "print('Your credentails:')\n",
    "print('CLIENT_ID: ' + CLIENT_ID)\n",
    "print('CLIENT_SECRET:' + CLIENT_SECRET)"
   ]
  },
  {
   "cell_type": "code",
   "execution_count": 6,
   "metadata": {},
   "outputs": [],
   "source": [
    "#Getting all restaurants in all districts\n",
    "restaurants = pd.DataFrame(columns=['District','ID','Name','Category'])\n",
    "for i in df.values.tolist():\n",
    "    District, Coordinates, Latitude, Longitude = i\n",
    "    venues = get_venues(Latitude,Longitude)\n",
    "    for j in venues.values.tolist():\n",
    "        id , name , category = j\n",
    "        restaurants = restaurants.append({'District': District, 'ID': id, 'Name' : name, 'Category':category}\n",
    "                           , ignore_index=True) "
   ]
  },
  {
   "cell_type": "code",
   "execution_count": 99,
   "metadata": {},
   "outputs": [],
   "source": [
    "#Store into csv\n",
    "restaurants.index.name='Index'\n",
    "restaurants.to_csv('restaurants.csv')\n"
   ]
  },
  {
   "cell_type": "code",
   "execution_count": 100,
   "metadata": {},
   "outputs": [
    {
     "data": {
      "text/html": [
       "<div>\n",
       "<style scoped>\n",
       "    .dataframe tbody tr th:only-of-type {\n",
       "        vertical-align: middle;\n",
       "    }\n",
       "\n",
       "    .dataframe tbody tr th {\n",
       "        vertical-align: top;\n",
       "    }\n",
       "\n",
       "    .dataframe thead th {\n",
       "        text-align: right;\n",
       "    }\n",
       "</style>\n",
       "<table border=\"1\" class=\"dataframe\">\n",
       "  <thead>\n",
       "    <tr style=\"text-align: right;\">\n",
       "      <th></th>\n",
       "      <th>Index</th>\n",
       "      <th>District</th>\n",
       "      <th>ID</th>\n",
       "      <th>Name</th>\n",
       "      <th>Category</th>\n",
       "    </tr>\n",
       "  </thead>\n",
       "  <tbody>\n",
       "    <tr>\n",
       "      <th>0</th>\n",
       "      <td>0</td>\n",
       "      <td>Hong Kong</td>\n",
       "      <td>560e8177498eec19033d3851</td>\n",
       "      <td>The Optimist</td>\n",
       "      <td>Spanish Restaurant</td>\n",
       "    </tr>\n",
       "    <tr>\n",
       "      <th>1</th>\n",
       "      <td>1</td>\n",
       "      <td>Hong Kong</td>\n",
       "      <td>53b508c1498ee296db480fea</td>\n",
       "      <td>Kam's Roast Goose (甘牌燒鵝)</td>\n",
       "      <td>Cantonese Restaurant</td>\n",
       "    </tr>\n",
       "    <tr>\n",
       "      <th>2</th>\n",
       "      <td>2</td>\n",
       "      <td>Hong Kong</td>\n",
       "      <td>5282091711d293929eb9139f</td>\n",
       "      <td>Zahrabel</td>\n",
       "      <td>Lebanese Restaurant</td>\n",
       "    </tr>\n",
       "    <tr>\n",
       "      <th>3</th>\n",
       "      <td>3</td>\n",
       "      <td>Hong Kong</td>\n",
       "      <td>4b794ce0f964a520e9f22ee3</td>\n",
       "      <td>Wooloomooloo Steakhouse</td>\n",
       "      <td>Steakhouse</td>\n",
       "    </tr>\n",
       "    <tr>\n",
       "      <th>4</th>\n",
       "      <td>4</td>\n",
       "      <td>Hong Kong</td>\n",
       "      <td>4b13d798f964a520a49923e3</td>\n",
       "      <td>Sang Kee Seafood Restaurant (生記海鮮飯店)</td>\n",
       "      <td>Seafood Restaurant</td>\n",
       "    </tr>\n",
       "    <tr>\n",
       "      <th>...</th>\n",
       "      <td>...</td>\n",
       "      <td>...</td>\n",
       "      <td>...</td>\n",
       "      <td>...</td>\n",
       "      <td>...</td>\n",
       "    </tr>\n",
       "    <tr>\n",
       "      <th>315</th>\n",
       "      <td>315</td>\n",
       "      <td>Sham Shui Po</td>\n",
       "      <td>5cd3fdc4588e36002cd9a270</td>\n",
       "      <td>Years (素年)</td>\n",
       "      <td>Japanese Restaurant</td>\n",
       "    </tr>\n",
       "    <tr>\n",
       "      <th>316</th>\n",
       "      <td>316</td>\n",
       "      <td>Sham Shui Po</td>\n",
       "      <td>58ddc08437318110dcab5c78</td>\n",
       "      <td>Golden Café (黃金冰室)</td>\n",
       "      <td>Cha Chaan Teng</td>\n",
       "    </tr>\n",
       "    <tr>\n",
       "      <th>317</th>\n",
       "      <td>317</td>\n",
       "      <td>Sham Shui Po</td>\n",
       "      <td>4ca6f13576d3a093be99066b</td>\n",
       "      <td>Ming Fat (明發)</td>\n",
       "      <td>Dumpling Restaurant</td>\n",
       "    </tr>\n",
       "    <tr>\n",
       "      <th>318</th>\n",
       "      <td>318</td>\n",
       "      <td>Sham Shui Po</td>\n",
       "      <td>5986c721c4df1d5dfae7510d</td>\n",
       "      <td>Sun Hang Yuen (新香園)</td>\n",
       "      <td>Cha Chaan Teng</td>\n",
       "    </tr>\n",
       "    <tr>\n",
       "      <th>319</th>\n",
       "      <td>319</td>\n",
       "      <td>Sham Shui Po</td>\n",
       "      <td>568a7f45498e112e6625d571</td>\n",
       "      <td>Go Go Restaurant (高高酒家)</td>\n",
       "      <td>Cantonese Restaurant</td>\n",
       "    </tr>\n",
       "  </tbody>\n",
       "</table>\n",
       "<p>320 rows × 5 columns</p>\n",
       "</div>"
      ],
      "text/plain": [
       "     Index      District                        ID  \\\n",
       "0        0     Hong Kong  560e8177498eec19033d3851   \n",
       "1        1     Hong Kong  53b508c1498ee296db480fea   \n",
       "2        2     Hong Kong  5282091711d293929eb9139f   \n",
       "3        3     Hong Kong  4b794ce0f964a520e9f22ee3   \n",
       "4        4     Hong Kong  4b13d798f964a520a49923e3   \n",
       "..     ...           ...                       ...   \n",
       "315    315  Sham Shui Po  5cd3fdc4588e36002cd9a270   \n",
       "316    316  Sham Shui Po  58ddc08437318110dcab5c78   \n",
       "317    317  Sham Shui Po  4ca6f13576d3a093be99066b   \n",
       "318    318  Sham Shui Po  5986c721c4df1d5dfae7510d   \n",
       "319    319  Sham Shui Po  568a7f45498e112e6625d571   \n",
       "\n",
       "                                     Name              Category  \n",
       "0                            The Optimist    Spanish Restaurant  \n",
       "1                Kam's Roast Goose (甘牌燒鵝)  Cantonese Restaurant  \n",
       "2                                Zahrabel   Lebanese Restaurant  \n",
       "3                 Wooloomooloo Steakhouse            Steakhouse  \n",
       "4    Sang Kee Seafood Restaurant (生記海鮮飯店)    Seafood Restaurant  \n",
       "..                                    ...                   ...  \n",
       "315                            Years (素年)   Japanese Restaurant  \n",
       "316                    Golden Café (黃金冰室)        Cha Chaan Teng  \n",
       "317                         Ming Fat (明發)   Dumpling Restaurant  \n",
       "318                   Sun Hang Yuen (新香園)        Cha Chaan Teng  \n",
       "319               Go Go Restaurant (高高酒家)  Cantonese Restaurant  \n",
       "\n",
       "[320 rows x 5 columns]"
      ]
     },
     "execution_count": 100,
     "metadata": {},
     "output_type": "execute_result"
    }
   ],
   "source": [
    "restaurants = pd.read_csv('restaurants.csv')\n",
    "restaurants"
   ]
  },
  {
   "cell_type": "code",
   "execution_count": 165,
   "metadata": {},
   "outputs": [],
   "source": [
    "#Used for storing all restaurant details\n",
    "store = []"
   ]
  },
  {
   "cell_type": "code",
   "execution_count": 173,
   "metadata": {},
   "outputs": [],
   "source": [
    "#Getting details of each restaurants\n",
    "for i in restaurants.values.tolist():\n",
    "    venue_details=get_venue_details(i[2])"
   ]
  },
  {
   "cell_type": "code",
   "execution_count": 174,
   "metadata": {},
   "outputs": [],
   "source": [
    "#Get like, rating and tips\n",
    "restaurantDetails=pd.DataFrame(columns=['District','ID','Name','Category','Likes','Rating','Tips'])\n",
    "for i in range(len(store)):\n",
    "    try:\n",
    "        venue_data=store[i]['response']['venue']\n",
    "        id=venue_data['id']\n",
    "        name=venue_data['name']\n",
    "        category=venue_data['categories'][0]['name']\n",
    "        likes=venue_data['likes']['count']\n",
    "        rating=venue_data['rating']\n",
    "        tips=venue_data['tips']['count']\n",
    "    except KeyError:\n",
    "        pass\n",
    "    restaurantDetails = restaurantDetails.append({'District': restaurants['District'][i], \n",
    "                                                'ID': id,\n",
    "                                                'Name' : name,\n",
    "                                                'Category': category,\n",
    "                                                'Likes' : likes,\n",
    "                                                'Rating' : rating,\n",
    "                                                'Tips' : tips\n",
    "                                               }, ignore_index=True)"
   ]
  },
  {
   "cell_type": "code",
   "execution_count": 213,
   "metadata": {},
   "outputs": [
    {
     "data": {
      "text/html": [
       "<div>\n",
       "<style scoped>\n",
       "    .dataframe tbody tr th:only-of-type {\n",
       "        vertical-align: middle;\n",
       "    }\n",
       "\n",
       "    .dataframe tbody tr th {\n",
       "        vertical-align: top;\n",
       "    }\n",
       "\n",
       "    .dataframe thead th {\n",
       "        text-align: right;\n",
       "    }\n",
       "</style>\n",
       "<table border=\"1\" class=\"dataframe\">\n",
       "  <thead>\n",
       "    <tr style=\"text-align: right;\">\n",
       "      <th></th>\n",
       "      <th>District</th>\n",
       "      <th>ID</th>\n",
       "      <th>Name</th>\n",
       "      <th>Category</th>\n",
       "      <th>Likes</th>\n",
       "      <th>Rating</th>\n",
       "      <th>Tips</th>\n",
       "    </tr>\n",
       "  </thead>\n",
       "  <tbody>\n",
       "    <tr>\n",
       "      <th>0</th>\n",
       "      <td>Hong Kong</td>\n",
       "      <td>560e8177498eec19033d3851</td>\n",
       "      <td>The Optimist</td>\n",
       "      <td>Spanish Restaurant</td>\n",
       "      <td>119</td>\n",
       "      <td>8.3</td>\n",
       "      <td>33</td>\n",
       "    </tr>\n",
       "    <tr>\n",
       "      <th>1</th>\n",
       "      <td>Hong Kong</td>\n",
       "      <td>53b508c1498ee296db480fea</td>\n",
       "      <td>Kam's Roast Goose (甘牌燒鵝)</td>\n",
       "      <td>Cantonese Restaurant</td>\n",
       "      <td>229</td>\n",
       "      <td>8.2</td>\n",
       "      <td>77</td>\n",
       "    </tr>\n",
       "    <tr>\n",
       "      <th>2</th>\n",
       "      <td>Hong Kong</td>\n",
       "      <td>5282091711d293929eb9139f</td>\n",
       "      <td>Zahrabel</td>\n",
       "      <td>Lebanese Restaurant</td>\n",
       "      <td>17</td>\n",
       "      <td>8.1</td>\n",
       "      <td>8</td>\n",
       "    </tr>\n",
       "    <tr>\n",
       "      <th>3</th>\n",
       "      <td>Hong Kong</td>\n",
       "      <td>4b794ce0f964a520e9f22ee3</td>\n",
       "      <td>Wooloomooloo Steakhouse</td>\n",
       "      <td>Steakhouse</td>\n",
       "      <td>231</td>\n",
       "      <td>8.1</td>\n",
       "      <td>97</td>\n",
       "    </tr>\n",
       "    <tr>\n",
       "      <th>4</th>\n",
       "      <td>Hong Kong</td>\n",
       "      <td>4b13d798f964a520a49923e3</td>\n",
       "      <td>Sang Kee Seafood Restaurant (生記海鮮飯店)</td>\n",
       "      <td>Seafood Restaurant</td>\n",
       "      <td>76</td>\n",
       "      <td>8.7</td>\n",
       "      <td>28</td>\n",
       "    </tr>\n",
       "  </tbody>\n",
       "</table>\n",
       "</div>"
      ],
      "text/plain": [
       "    District                        ID                                  Name  \\\n",
       "0  Hong Kong  560e8177498eec19033d3851                          The Optimist   \n",
       "1  Hong Kong  53b508c1498ee296db480fea              Kam's Roast Goose (甘牌燒鵝)   \n",
       "2  Hong Kong  5282091711d293929eb9139f                              Zahrabel   \n",
       "3  Hong Kong  4b794ce0f964a520e9f22ee3               Wooloomooloo Steakhouse   \n",
       "4  Hong Kong  4b13d798f964a520a49923e3  Sang Kee Seafood Restaurant (生記海鮮飯店)   \n",
       "\n",
       "               Category  Likes  Rating  Tips  \n",
       "0    Spanish Restaurant    119     8.3    33  \n",
       "1  Cantonese Restaurant    229     8.2    77  \n",
       "2   Lebanese Restaurant     17     8.1     8  \n",
       "3            Steakhouse    231     8.1    97  \n",
       "4    Seafood Restaurant     76     8.7    28  "
      ]
     },
     "execution_count": 213,
     "metadata": {},
     "output_type": "execute_result"
    }
   ],
   "source": [
    "restaurantDetails.head()"
   ]
  },
  {
   "cell_type": "markdown",
   "metadata": {},
   "source": [
    "## Analysis <a name=\"analysis\"></a>"
   ]
  },
  {
   "cell_type": "markdown",
   "metadata": {},
   "source": [
    "### 1. How many restaurant in Hong Kong?"
   ]
  },
  {
   "cell_type": "code",
   "execution_count": 242,
   "metadata": {},
   "outputs": [
    {
     "name": "stdout",
     "output_type": "stream",
     "text": [
      "From the Foursquare website, there are a total 320 restaurants in Hong Kong.\n"
     ]
    }
   ],
   "source": [
    "print(\"From the Foursquare website, there are a total\",len(restaurants),\"restaurants in Hong Kong.\")"
   ]
  },
  {
   "cell_type": "markdown",
   "metadata": {},
   "source": [
    "### 2. Which district has the largest number of restaurants?"
   ]
  },
  {
   "cell_type": "code",
   "execution_count": 185,
   "metadata": {},
   "outputs": [
    {
     "data": {
      "image/png": "[encoded data removed]",
      "text/plain": [
       "<Figure size 720x360 with 1 Axes>"
      ]
     },
     "metadata": {
      "needs_background": "light"
     },
     "output_type": "display_data"
    }
   ],
   "source": [
    "restaurants.groupby('District')['ID'].count().sort_values().plot.barh(figsize=(10,5), color='burlywood')\n",
    "plt.title('Number of Restaurants in Hong Kong', fontsize = 20)\n",
    "plt.xlabel('No. of Restaurants', fontsize=15)\n",
    "plt.ylabel('District', fontsize = 15)\n",
    "plt.xticks(rotation = 'horizontal')\n",
    "plt.show()"
   ]
  },
  {
   "cell_type": "code",
   "execution_count": 196,
   "metadata": {},
   "outputs": [
    {
     "data": {
      "text/plain": [
       "District\n",
       "Central          49\n",
       "Hong Kong        30\n",
       "Kowloon          11\n",
       "Ngong Ping        9\n",
       "Sai Kung          1\n",
       "Sha Tin           4\n",
       "Sham Shui Po     34\n",
       "Sok Kwu Wan      10\n",
       "Tai O            17\n",
       "Tai Po           37\n",
       "Tsuen Wan        37\n",
       "Tuen Mun          2\n",
       "Tung Chung       45\n",
       "Wan Chai         11\n",
       "Yung Shue Wan    23\n",
       "Name: ID, dtype: int64"
      ]
     },
     "execution_count": 196,
     "metadata": {},
     "output_type": "execute_result"
    }
   ],
   "source": [
    "restaurants.groupby('District')['ID'].count()"
   ]
  },
  {
   "cell_type": "code",
   "execution_count": 198,
   "metadata": {},
   "outputs": [
    {
     "name": "stdout",
     "output_type": "stream",
     "text": [
      "Central has the largest number of restaurants : 49\n"
     ]
    }
   ],
   "source": [
    "print(\"Central has the largest number of restaurants :\",restaurants.groupby('District')['ID'].count()[0])"
   ]
  },
  {
   "cell_type": "markdown",
   "metadata": {},
   "source": [
    "### 3. How many type of food in Hong Kong?"
   ]
  },
  {
   "cell_type": "code",
   "execution_count": 240,
   "metadata": {},
   "outputs": [
    {
     "data": {
      "text/plain": [
       "Category\n",
       "Chinese Restaurant       37\n",
       "Japanese Restaurant      23\n",
       "Cha Chaan Teng           17\n",
       "Seafood Restaurant       16\n",
       "Hong Kong Restaurant     16\n",
       "                         ..\n",
       "Halal Restaurant          1\n",
       "Gastropub                 1\n",
       "Fujian Restaurant         1\n",
       "Fried Chicken Joint       1\n",
       "Indonesian Restaurant     1\n",
       "Name: ID, Length: 61, dtype: int64"
      ]
     },
     "execution_count": 240,
     "metadata": {},
     "output_type": "execute_result"
    }
   ],
   "source": [
    "restaurants.groupby('Category')['ID'].count().sort_values(ascending=False)"
   ]
  },
  {
   "cell_type": "code",
   "execution_count": 243,
   "metadata": {},
   "outputs": [
    {
     "name": "stdout",
     "output_type": "stream",
     "text": [
      "From the Foursquare website, there are a total 61 types of restaurants in Hong Kong.\n"
     ]
    }
   ],
   "source": [
    "print(\"From the Foursquare website, there are a total\",len(restaurants.groupby('Category')['ID']),\"types of restaurants in Hong Kong.\")"
   ]
  },
  {
   "cell_type": "markdown",
   "metadata": {},
   "source": [
    "### 4. What is most popular food type?"
   ]
  },
  {
   "cell_type": "code",
   "execution_count": 214,
   "metadata": {},
   "outputs": [
    {
     "data": {
      "image/png": "[encoded data removed]",
      "text/plain": [
       "<Figure size 720x864 with 1 Axes>"
      ]
     },
     "metadata": {
      "needs_background": "light"
     },
     "output_type": "display_data"
    }
   ],
   "source": [
    "restaurants.groupby('Category')['ID'].count().sort_values().plot.barh(figsize=(10,12), color='green')\n",
    "plt.title('Type of Restaurants in Hong Kong', fontsize = 20)\n",
    "plt.xlabel('No. of Restaurants', fontsize=15)\n",
    "plt.ylabel('District', fontsize = 15)\n",
    "plt.xticks(rotation = 'horizontal')\n",
    "plt.show()"
   ]
  },
  {
   "cell_type": "code",
   "execution_count": 219,
   "metadata": {
    "scrolled": true
   },
   "outputs": [
    {
     "data": {
      "text/plain": [
       "Category\n",
       "Chinese Restaurant       37\n",
       "Japanese Restaurant      23\n",
       "Cha Chaan Teng           17\n",
       "Seafood Restaurant       16\n",
       "Hong Kong Restaurant     16\n",
       "                         ..\n",
       "Halal Restaurant          1\n",
       "Gastropub                 1\n",
       "Fujian Restaurant         1\n",
       "Fried Chicken Joint       1\n",
       "Indonesian Restaurant     1\n",
       "Name: ID, Length: 61, dtype: int64"
      ]
     },
     "execution_count": 219,
     "metadata": {},
     "output_type": "execute_result"
    }
   ],
   "source": [
    "restaurants.groupby('Category')['ID'].count().sort_values(ascending=False)"
   ]
  },
  {
   "cell_type": "code",
   "execution_count": 225,
   "metadata": {},
   "outputs": [
    {
     "name": "stdout",
     "output_type": "stream",
     "text": [
      "The most popular food type is Chinese Restaurant, with 49 restaurants in Hong Kong.\n"
     ]
    }
   ],
   "source": [
    "print(\"The most popular food type is Chinese Restaurant, with\",restaurants.groupby('District')['ID'].count()[0],\"restaurants in Hong Kong.\")"
   ]
  },
  {
   "cell_type": "markdown",
   "metadata": {},
   "source": [
    "### 5. What is the most popular restaurant in Hong Kong?"
   ]
  },
  {
   "cell_type": "markdown",
   "metadata": {},
   "source": [
    "#### By Likes"
   ]
  },
  {
   "cell_type": "code",
   "execution_count": 232,
   "metadata": {},
   "outputs": [
    {
     "data": {
      "text/html": [
       "<div>\n",
       "<style scoped>\n",
       "    .dataframe tbody tr th:only-of-type {\n",
       "        vertical-align: middle;\n",
       "    }\n",
       "\n",
       "    .dataframe tbody tr th {\n",
       "        vertical-align: top;\n",
       "    }\n",
       "\n",
       "    .dataframe thead th {\n",
       "        text-align: right;\n",
       "    }\n",
       "</style>\n",
       "<table border=\"1\" class=\"dataframe\">\n",
       "  <thead>\n",
       "    <tr style=\"text-align: right;\">\n",
       "      <th></th>\n",
       "      <th>District</th>\n",
       "      <th>ID</th>\n",
       "      <th>Name</th>\n",
       "      <th>Category</th>\n",
       "      <th>Likes</th>\n",
       "      <th>Rating</th>\n",
       "      <th>Tips</th>\n",
       "    </tr>\n",
       "  </thead>\n",
       "  <tbody>\n",
       "    <tr>\n",
       "      <th>237</th>\n",
       "      <td>Ngong Ping</td>\n",
       "      <td>5305caeb498e391fd4b9caf0</td>\n",
       "      <td>Mott 32 (卅二公館)</td>\n",
       "      <td>Dim Sum Restaurant</td>\n",
       "      <td>433</td>\n",
       "      <td>9.0</td>\n",
       "      <td>135</td>\n",
       "    </tr>\n",
       "    <tr>\n",
       "      <th>253</th>\n",
       "      <td>Sok Kwu Wan</td>\n",
       "      <td>4ed70871be7b3567163a9b79</td>\n",
       "      <td>Yat Lok Restaurant (一樂燒鵝)</td>\n",
       "      <td>Cantonese Restaurant</td>\n",
       "      <td>368</td>\n",
       "      <td>8.0</td>\n",
       "      <td>160</td>\n",
       "    </tr>\n",
       "    <tr>\n",
       "      <th>233</th>\n",
       "      <td>Yung Shue Wan</td>\n",
       "      <td>4b0e380af964a520115623e3</td>\n",
       "      <td>Zuma</td>\n",
       "      <td>Japanese Restaurant</td>\n",
       "      <td>335</td>\n",
       "      <td>8.7</td>\n",
       "      <td>141</td>\n",
       "    </tr>\n",
       "    <tr>\n",
       "      <th>3</th>\n",
       "      <td>Hong Kong</td>\n",
       "      <td>4b794ce0f964a520e9f22ee3</td>\n",
       "      <td>Wooloomooloo Steakhouse</td>\n",
       "      <td>Steakhouse</td>\n",
       "      <td>231</td>\n",
       "      <td>8.1</td>\n",
       "      <td>97</td>\n",
       "    </tr>\n",
       "    <tr>\n",
       "      <th>1</th>\n",
       "      <td>Hong Kong</td>\n",
       "      <td>53b508c1498ee296db480fea</td>\n",
       "      <td>Kam's Roast Goose (甘牌燒鵝)</td>\n",
       "      <td>Cantonese Restaurant</td>\n",
       "      <td>229</td>\n",
       "      <td>8.2</td>\n",
       "      <td>77</td>\n",
       "    </tr>\n",
       "    <tr>\n",
       "      <th>...</th>\n",
       "      <td>...</td>\n",
       "      <td>...</td>\n",
       "      <td>...</td>\n",
       "      <td>...</td>\n",
       "      <td>...</td>\n",
       "      <td>...</td>\n",
       "      <td>...</td>\n",
       "    </tr>\n",
       "    <tr>\n",
       "      <th>138</th>\n",
       "      <td>Tung Chung</td>\n",
       "      <td>4ce7f263678aa0936f76e5ea</td>\n",
       "      <td>Yuen Kee (苑記粉麵茶餐廳)</td>\n",
       "      <td>Hong Kong Restaurant</td>\n",
       "      <td>0</td>\n",
       "      <td>5.8</td>\n",
       "      <td>1</td>\n",
       "    </tr>\n",
       "    <tr>\n",
       "      <th>74</th>\n",
       "      <td>Hong Kong</td>\n",
       "      <td>4d97344d9079b1f7fb6b0c0a</td>\n",
       "      <td>都好燒臘粉麵茶餐廳</td>\n",
       "      <td>Cha Chaan Teng</td>\n",
       "      <td>0</td>\n",
       "      <td>5.7</td>\n",
       "      <td>1</td>\n",
       "    </tr>\n",
       "    <tr>\n",
       "      <th>107</th>\n",
       "      <td>Tsuen Wan</td>\n",
       "      <td>54955896498ee220d8ff34b6</td>\n",
       "      <td>Italian Tomato</td>\n",
       "      <td>Bakery</td>\n",
       "      <td>0</td>\n",
       "      <td>5.5</td>\n",
       "      <td>5</td>\n",
       "    </tr>\n",
       "    <tr>\n",
       "      <th>145</th>\n",
       "      <td>Tung Chung</td>\n",
       "      <td>5bfa59872be425002c4c5bab</td>\n",
       "      <td>三不館車仔麵</td>\n",
       "      <td>Noodle House</td>\n",
       "      <td>0</td>\n",
       "      <td>5.8</td>\n",
       "      <td>1</td>\n",
       "    </tr>\n",
       "    <tr>\n",
       "      <th>124</th>\n",
       "      <td>Tsuen Wan</td>\n",
       "      <td>518e2077498eb3a9a3ae0942</td>\n",
       "      <td>Local Farmer</td>\n",
       "      <td>Café</td>\n",
       "      <td>0</td>\n",
       "      <td>5.1</td>\n",
       "      <td>8</td>\n",
       "    </tr>\n",
       "  </tbody>\n",
       "</table>\n",
       "<p>302 rows × 7 columns</p>\n",
       "</div>"
      ],
      "text/plain": [
       "          District                        ID                       Name  \\\n",
       "237     Ngong Ping  5305caeb498e391fd4b9caf0             Mott 32 (卅二公館)   \n",
       "253    Sok Kwu Wan  4ed70871be7b3567163a9b79  Yat Lok Restaurant (一樂燒鵝)   \n",
       "233  Yung Shue Wan  4b0e380af964a520115623e3                       Zuma   \n",
       "3        Hong Kong  4b794ce0f964a520e9f22ee3    Wooloomooloo Steakhouse   \n",
       "1        Hong Kong  53b508c1498ee296db480fea   Kam's Roast Goose (甘牌燒鵝)   \n",
       "..             ...                       ...                        ...   \n",
       "138     Tung Chung  4ce7f263678aa0936f76e5ea         Yuen Kee (苑記粉麵茶餐廳)   \n",
       "74       Hong Kong  4d97344d9079b1f7fb6b0c0a                  都好燒臘粉麵茶餐廳   \n",
       "107      Tsuen Wan  54955896498ee220d8ff34b6             Italian Tomato   \n",
       "145     Tung Chung  5bfa59872be425002c4c5bab                     三不館車仔麵   \n",
       "124      Tsuen Wan  518e2077498eb3a9a3ae0942               Local Farmer   \n",
       "\n",
       "                 Category  Likes  Rating  Tips  \n",
       "237    Dim Sum Restaurant    433     9.0   135  \n",
       "253  Cantonese Restaurant    368     8.0   160  \n",
       "233   Japanese Restaurant    335     8.7   141  \n",
       "3              Steakhouse    231     8.1    97  \n",
       "1    Cantonese Restaurant    229     8.2    77  \n",
       "..                    ...    ...     ...   ...  \n",
       "138  Hong Kong Restaurant      0     5.8     1  \n",
       "74         Cha Chaan Teng      0     5.7     1  \n",
       "107                Bakery      0     5.5     5  \n",
       "145          Noodle House      0     5.8     1  \n",
       "124                  Café      0     5.1     8  \n",
       "\n",
       "[302 rows x 7 columns]"
      ]
     },
     "execution_count": 232,
     "metadata": {},
     "output_type": "execute_result"
    }
   ],
   "source": [
    "restaurantDetails.sort_values(by='Likes', ascending=False, axis=0)"
   ]
  },
  {
   "cell_type": "markdown",
   "metadata": {},
   "source": [
    "By Likes, Mott 32 (卅二公館) has the most likes which has 433 likes.<br>\n",
    "The second one is Yat Lok Restaurant (一樂燒鵝) which has 368 likes.<br>\n",
    "For Zuma, it is the third one, which has 335 likes."
   ]
  },
  {
   "cell_type": "markdown",
   "metadata": {},
   "source": [
    "#### By Rating"
   ]
  },
  {
   "cell_type": "code",
   "execution_count": 233,
   "metadata": {
    "scrolled": false
   },
   "outputs": [
    {
     "data": {
      "text/html": [
       "<div>\n",
       "<style scoped>\n",
       "    .dataframe tbody tr th:only-of-type {\n",
       "        vertical-align: middle;\n",
       "    }\n",
       "\n",
       "    .dataframe tbody tr th {\n",
       "        vertical-align: top;\n",
       "    }\n",
       "\n",
       "    .dataframe thead th {\n",
       "        text-align: right;\n",
       "    }\n",
       "</style>\n",
       "<table border=\"1\" class=\"dataframe\">\n",
       "  <thead>\n",
       "    <tr style=\"text-align: right;\">\n",
       "      <th></th>\n",
       "      <th>District</th>\n",
       "      <th>ID</th>\n",
       "      <th>Name</th>\n",
       "      <th>Category</th>\n",
       "      <th>Likes</th>\n",
       "      <th>Rating</th>\n",
       "      <th>Tips</th>\n",
       "    </tr>\n",
       "  </thead>\n",
       "  <tbody>\n",
       "    <tr>\n",
       "      <th>226</th>\n",
       "      <td>Yung Shue Wan</td>\n",
       "      <td>4c7fa26501df37045bb4e6ac</td>\n",
       "      <td>Mandarin Grill + Bar (文華扒房＋酒吧)</td>\n",
       "      <td>Steakhouse</td>\n",
       "      <td>55</td>\n",
       "      <td>9.2</td>\n",
       "      <td>15</td>\n",
       "    </tr>\n",
       "    <tr>\n",
       "      <th>237</th>\n",
       "      <td>Ngong Ping</td>\n",
       "      <td>5305caeb498e391fd4b9caf0</td>\n",
       "      <td>Mott 32 (卅二公館)</td>\n",
       "      <td>Dim Sum Restaurant</td>\n",
       "      <td>433</td>\n",
       "      <td>9.0</td>\n",
       "      <td>135</td>\n",
       "    </tr>\n",
       "    <tr>\n",
       "      <th>227</th>\n",
       "      <td>Yung Shue Wan</td>\n",
       "      <td>4b0588d8f964a520dbdc22e3</td>\n",
       "      <td>Man Wah (文華廳)</td>\n",
       "      <td>Cantonese Restaurant</td>\n",
       "      <td>38</td>\n",
       "      <td>8.8</td>\n",
       "      <td>16</td>\n",
       "    </tr>\n",
       "    <tr>\n",
       "      <th>275</th>\n",
       "      <td>Central</td>\n",
       "      <td>4b0588d8f964a520d5dc22e3</td>\n",
       "      <td>One Harbour Road (港灣壹號)</td>\n",
       "      <td>Chinese Restaurant</td>\n",
       "      <td>40</td>\n",
       "      <td>8.7</td>\n",
       "      <td>17</td>\n",
       "    </tr>\n",
       "    <tr>\n",
       "      <th>4</th>\n",
       "      <td>Hong Kong</td>\n",
       "      <td>4b13d798f964a520a49923e3</td>\n",
       "      <td>Sang Kee Seafood Restaurant (生記海鮮飯店)</td>\n",
       "      <td>Seafood Restaurant</td>\n",
       "      <td>76</td>\n",
       "      <td>8.7</td>\n",
       "      <td>28</td>\n",
       "    </tr>\n",
       "    <tr>\n",
       "      <th>...</th>\n",
       "      <td>...</td>\n",
       "      <td>...</td>\n",
       "      <td>...</td>\n",
       "      <td>...</td>\n",
       "      <td>...</td>\n",
       "      <td>...</td>\n",
       "      <td>...</td>\n",
       "    </tr>\n",
       "    <tr>\n",
       "      <th>124</th>\n",
       "      <td>Tsuen Wan</td>\n",
       "      <td>518e2077498eb3a9a3ae0942</td>\n",
       "      <td>Local Farmer</td>\n",
       "      <td>Café</td>\n",
       "      <td>0</td>\n",
       "      <td>5.1</td>\n",
       "      <td>8</td>\n",
       "    </tr>\n",
       "    <tr>\n",
       "      <th>125</th>\n",
       "      <td>Tung Chung</td>\n",
       "      <td>5d4e92d394da0b0007bb6330</td>\n",
       "      <td>Holibay Brunch</td>\n",
       "      <td>Café</td>\n",
       "      <td>0</td>\n",
       "      <td>5.1</td>\n",
       "      <td>8</td>\n",
       "    </tr>\n",
       "    <tr>\n",
       "      <th>126</th>\n",
       "      <td>Tung Chung</td>\n",
       "      <td>5b6e86dd7564f7003987c952</td>\n",
       "      <td>Bricklane Deli</td>\n",
       "      <td>Breakfast Spot</td>\n",
       "      <td>2</td>\n",
       "      <td>5.1</td>\n",
       "      <td>8</td>\n",
       "    </tr>\n",
       "    <tr>\n",
       "      <th>127</th>\n",
       "      <td>Tung Chung</td>\n",
       "      <td>4e08719cb61c60b0454b1b96</td>\n",
       "      <td>雲味園小鍋米線</td>\n",
       "      <td>Noodle House</td>\n",
       "      <td>1</td>\n",
       "      <td>5.1</td>\n",
       "      <td>8</td>\n",
       "    </tr>\n",
       "    <tr>\n",
       "      <th>120</th>\n",
       "      <td>Tsuen Wan</td>\n",
       "      <td>4b8138eaf964a5200e9b30e3</td>\n",
       "      <td>Pizza Hut (必勝客)</td>\n",
       "      <td>Pizza Place</td>\n",
       "      <td>8</td>\n",
       "      <td>4.9</td>\n",
       "      <td>10</td>\n",
       "    </tr>\n",
       "  </tbody>\n",
       "</table>\n",
       "<p>302 rows × 7 columns</p>\n",
       "</div>"
      ],
      "text/plain": [
       "          District                        ID  \\\n",
       "226  Yung Shue Wan  4c7fa26501df37045bb4e6ac   \n",
       "237     Ngong Ping  5305caeb498e391fd4b9caf0   \n",
       "227  Yung Shue Wan  4b0588d8f964a520dbdc22e3   \n",
       "275        Central  4b0588d8f964a520d5dc22e3   \n",
       "4        Hong Kong  4b13d798f964a520a49923e3   \n",
       "..             ...                       ...   \n",
       "124      Tsuen Wan  518e2077498eb3a9a3ae0942   \n",
       "125     Tung Chung  5d4e92d394da0b0007bb6330   \n",
       "126     Tung Chung  5b6e86dd7564f7003987c952   \n",
       "127     Tung Chung  4e08719cb61c60b0454b1b96   \n",
       "120      Tsuen Wan  4b8138eaf964a5200e9b30e3   \n",
       "\n",
       "                                     Name              Category  Likes  \\\n",
       "226        Mandarin Grill + Bar (文華扒房＋酒吧)            Steakhouse     55   \n",
       "237                        Mott 32 (卅二公館)    Dim Sum Restaurant    433   \n",
       "227                         Man Wah (文華廳)  Cantonese Restaurant     38   \n",
       "275               One Harbour Road (港灣壹號)    Chinese Restaurant     40   \n",
       "4    Sang Kee Seafood Restaurant (生記海鮮飯店)    Seafood Restaurant     76   \n",
       "..                                    ...                   ...    ...   \n",
       "124                          Local Farmer                  Café      0   \n",
       "125                        Holibay Brunch                  Café      0   \n",
       "126                        Bricklane Deli        Breakfast Spot      2   \n",
       "127                               雲味園小鍋米線          Noodle House      1   \n",
       "120                       Pizza Hut (必勝客)           Pizza Place      8   \n",
       "\n",
       "     Rating  Tips  \n",
       "226     9.2    15  \n",
       "237     9.0   135  \n",
       "227     8.8    16  \n",
       "275     8.7    17  \n",
       "4       8.7    28  \n",
       "..      ...   ...  \n",
       "124     5.1     8  \n",
       "125     5.1     8  \n",
       "126     5.1     8  \n",
       "127     5.1     8  \n",
       "120     4.9    10  \n",
       "\n",
       "[302 rows x 7 columns]"
      ]
     },
     "execution_count": 233,
     "metadata": {},
     "output_type": "execute_result"
    }
   ],
   "source": [
    "restaurantDetails.sort_values(by='Rating', ascending=False, axis=0)"
   ]
  },
  {
   "cell_type": "markdown",
   "metadata": {},
   "source": [
    "By Rating, Mandarin Grill + Bar (文華扒房＋酒吧) has the highest rating which has a 9.2 rating.<br>\n",
    "The second one is Mott 32 (卅二公館) which the rating is 9.0.<br>\n",
    "For Man Wah (文華廳), it is the third one, which is 8.8 rating."
   ]
  },
  {
   "cell_type": "markdown",
   "metadata": {},
   "source": [
    "#### By Tips"
   ]
  },
  {
   "cell_type": "code",
   "execution_count": 235,
   "metadata": {},
   "outputs": [
    {
     "data": {
      "text/html": [
       "<div>\n",
       "<style scoped>\n",
       "    .dataframe tbody tr th:only-of-type {\n",
       "        vertical-align: middle;\n",
       "    }\n",
       "\n",
       "    .dataframe tbody tr th {\n",
       "        vertical-align: top;\n",
       "    }\n",
       "\n",
       "    .dataframe thead th {\n",
       "        text-align: right;\n",
       "    }\n",
       "</style>\n",
       "<table border=\"1\" class=\"dataframe\">\n",
       "  <thead>\n",
       "    <tr style=\"text-align: right;\">\n",
       "      <th></th>\n",
       "      <th>District</th>\n",
       "      <th>ID</th>\n",
       "      <th>Name</th>\n",
       "      <th>Category</th>\n",
       "      <th>Likes</th>\n",
       "      <th>Rating</th>\n",
       "      <th>Tips</th>\n",
       "    </tr>\n",
       "  </thead>\n",
       "  <tbody>\n",
       "    <tr>\n",
       "      <th>253</th>\n",
       "      <td>Sok Kwu Wan</td>\n",
       "      <td>4ed70871be7b3567163a9b79</td>\n",
       "      <td>Yat Lok Restaurant (一樂燒鵝)</td>\n",
       "      <td>Cantonese Restaurant</td>\n",
       "      <td>368</td>\n",
       "      <td>8.0</td>\n",
       "      <td>160</td>\n",
       "    </tr>\n",
       "    <tr>\n",
       "      <th>233</th>\n",
       "      <td>Yung Shue Wan</td>\n",
       "      <td>4b0e380af964a520115623e3</td>\n",
       "      <td>Zuma</td>\n",
       "      <td>Japanese Restaurant</td>\n",
       "      <td>335</td>\n",
       "      <td>8.7</td>\n",
       "      <td>141</td>\n",
       "    </tr>\n",
       "    <tr>\n",
       "      <th>237</th>\n",
       "      <td>Ngong Ping</td>\n",
       "      <td>5305caeb498e391fd4b9caf0</td>\n",
       "      <td>Mott 32 (卅二公館)</td>\n",
       "      <td>Dim Sum Restaurant</td>\n",
       "      <td>433</td>\n",
       "      <td>9.0</td>\n",
       "      <td>135</td>\n",
       "    </tr>\n",
       "    <tr>\n",
       "      <th>3</th>\n",
       "      <td>Hong Kong</td>\n",
       "      <td>4b794ce0f964a520e9f22ee3</td>\n",
       "      <td>Wooloomooloo Steakhouse</td>\n",
       "      <td>Steakhouse</td>\n",
       "      <td>231</td>\n",
       "      <td>8.1</td>\n",
       "      <td>97</td>\n",
       "    </tr>\n",
       "    <tr>\n",
       "      <th>235</th>\n",
       "      <td>Yung Shue Wan</td>\n",
       "      <td>4b1947f3f964a5206dda23e3</td>\n",
       "      <td>L'Atelier de Joël Robuchon</td>\n",
       "      <td>French Restaurant</td>\n",
       "      <td>105</td>\n",
       "      <td>7.9</td>\n",
       "      <td>95</td>\n",
       "    </tr>\n",
       "    <tr>\n",
       "      <th>...</th>\n",
       "      <td>...</td>\n",
       "      <td>...</td>\n",
       "      <td>...</td>\n",
       "      <td>...</td>\n",
       "      <td>...</td>\n",
       "      <td>...</td>\n",
       "      <td>...</td>\n",
       "    </tr>\n",
       "    <tr>\n",
       "      <th>35</th>\n",
       "      <td>Kowloon</td>\n",
       "      <td>4d3d5e943ec9a35ddd8b5081</td>\n",
       "      <td>Pizza Hut (必勝客)</td>\n",
       "      <td>Pizza Place</td>\n",
       "      <td>0</td>\n",
       "      <td>5.9</td>\n",
       "      <td>0</td>\n",
       "    </tr>\n",
       "    <tr>\n",
       "      <th>34</th>\n",
       "      <td>Kowloon</td>\n",
       "      <td>4f1278dee4b0044a24589bfa</td>\n",
       "      <td>Yoshinoya (吉野家)</td>\n",
       "      <td>Donburi Restaurant</td>\n",
       "      <td>3</td>\n",
       "      <td>5.9</td>\n",
       "      <td>0</td>\n",
       "    </tr>\n",
       "    <tr>\n",
       "      <th>30</th>\n",
       "      <td>Kowloon</td>\n",
       "      <td>4bee93863686c9b6e7a3246e</td>\n",
       "      <td>McDonald's (麥當勞)</td>\n",
       "      <td>Fast Food Restaurant</td>\n",
       "      <td>1</td>\n",
       "      <td>5.9</td>\n",
       "      <td>0</td>\n",
       "    </tr>\n",
       "    <tr>\n",
       "      <th>31</th>\n",
       "      <td>Kowloon</td>\n",
       "      <td>4c43080bce54e21e59750d1a</td>\n",
       "      <td>Banyan Seafood Restaurant (新榕記海鮮酒家)</td>\n",
       "      <td>Chinese Restaurant</td>\n",
       "      <td>0</td>\n",
       "      <td>5.9</td>\n",
       "      <td>0</td>\n",
       "    </tr>\n",
       "    <tr>\n",
       "      <th>36</th>\n",
       "      <td>Kowloon</td>\n",
       "      <td>5bbdf4e315173e002c5bb320</td>\n",
       "      <td>Itamama (意樂餐廳)</td>\n",
       "      <td>Italian Restaurant</td>\n",
       "      <td>2</td>\n",
       "      <td>5.9</td>\n",
       "      <td>0</td>\n",
       "    </tr>\n",
       "  </tbody>\n",
       "</table>\n",
       "<p>302 rows × 7 columns</p>\n",
       "</div>"
      ],
      "text/plain": [
       "          District                        ID  \\\n",
       "253    Sok Kwu Wan  4ed70871be7b3567163a9b79   \n",
       "233  Yung Shue Wan  4b0e380af964a520115623e3   \n",
       "237     Ngong Ping  5305caeb498e391fd4b9caf0   \n",
       "3        Hong Kong  4b794ce0f964a520e9f22ee3   \n",
       "235  Yung Shue Wan  4b1947f3f964a5206dda23e3   \n",
       "..             ...                       ...   \n",
       "35         Kowloon  4d3d5e943ec9a35ddd8b5081   \n",
       "34         Kowloon  4f1278dee4b0044a24589bfa   \n",
       "30         Kowloon  4bee93863686c9b6e7a3246e   \n",
       "31         Kowloon  4c43080bce54e21e59750d1a   \n",
       "36         Kowloon  5bbdf4e315173e002c5bb320   \n",
       "\n",
       "                                    Name              Category  Likes  Rating  \\\n",
       "253            Yat Lok Restaurant (一樂燒鵝)  Cantonese Restaurant    368     8.0   \n",
       "233                                 Zuma   Japanese Restaurant    335     8.7   \n",
       "237                       Mott 32 (卅二公館)    Dim Sum Restaurant    433     9.0   \n",
       "3                Wooloomooloo Steakhouse            Steakhouse    231     8.1   \n",
       "235           L'Atelier de Joël Robuchon     French Restaurant    105     7.9   \n",
       "..                                   ...                   ...    ...     ...   \n",
       "35                       Pizza Hut (必勝客)           Pizza Place      0     5.9   \n",
       "34                       Yoshinoya (吉野家)    Donburi Restaurant      3     5.9   \n",
       "30                      McDonald's (麥當勞)  Fast Food Restaurant      1     5.9   \n",
       "31   Banyan Seafood Restaurant (新榕記海鮮酒家)    Chinese Restaurant      0     5.9   \n",
       "36                        Itamama (意樂餐廳)    Italian Restaurant      2     5.9   \n",
       "\n",
       "     Tips  \n",
       "253   160  \n",
       "233   141  \n",
       "237   135  \n",
       "3      97  \n",
       "235    95  \n",
       "..    ...  \n",
       "35      0  \n",
       "34      0  \n",
       "30      0  \n",
       "31      0  \n",
       "36      0  \n",
       "\n",
       "[302 rows x 7 columns]"
      ]
     },
     "execution_count": 235,
     "metadata": {},
     "output_type": "execute_result"
    }
   ],
   "source": [
    "restaurantDetails.sort_values(by='Tips', ascending=False, axis=0)"
   ]
  },
  {
   "cell_type": "markdown",
   "metadata": {},
   "source": [
    "By Tips, Yat Lok Restaurant (一樂燒鵝) has the largest number of tips which has 160 tips.<br>\n",
    "The second one is Zuma which has 141 tips.<br>\n",
    "For Mott 32 (卅二公館), it is the third one, which has 135 tips."
   ]
  },
  {
   "cell_type": "markdown",
   "metadata": {},
   "source": [
    "To conclude, even though different rankings have different results, Mott 32 (卅二公館) which is a Dim Sum Restaurant, shows the best result among all 3 rankings that has 433 likes, 135 tips with 9.0 rating.\n",
    "Apart from Mott 32 (卅二公館), Zuma, which is a Japanese Restaurant, and Yat Lok Restaurant (一樂燒鵝), which is a Cantonese Restaurant, both have a great result in the ranking that Zuma has 335 likes, 141 tips with 8.7 rating while Yat Lok Restaurant (一樂燒鵝) has 368 likes, 160 tips with 8.0 rating."
   ]
  },
  {
   "cell_type": "markdown",
   "metadata": {},
   "source": [
    "## Results and Discussion <a name=\"results\"></a>"
   ]
  },
  {
   "cell_type": "markdown",
   "metadata": {},
   "source": [
    "### 6. Where should we open the restaurant?"
   ]
  },
  {
   "cell_type": "markdown",
   "metadata": {},
   "source": [
    "According to the number of restaurants among all the districts in Hong Kong. Central has the largest number of restaurants. It will be a great choice of opening a restaurant there.<br><br>\n",
    "Also, there are many companies in Central. Everyday many people go to Central and work, then have lunch and dinner nearby. The huge flow of people can ensure that there are enough potential customers for a new restaurant. As a result, Central will be a good place.\n"
   ]
  },
  {
   "cell_type": "markdown",
   "metadata": {},
   "source": [
    "### 7. Which food should we provide?"
   ]
  },
  {
   "cell_type": "markdown",
   "metadata": {},
   "source": [
    "As mentioned before, the most popular food type is Chinese food. There are 49 Chinese restaurants in Hong Kong. Also, for popular restaurants which are Dim Sum Restaurant, Japanese Restaurant and Cantonese Restaurant. For Dim Sum Restaurant and Cantonese Restaurant, both actually are a king of Chinese food. Therefore, Chinese food would be a good choice to open a restaurant."
   ]
  },
  {
   "cell_type": "markdown",
   "metadata": {},
   "source": [
    "## Limitation"
   ]
  },
  {
   "cell_type": "markdown",
   "metadata": {},
   "source": [
    "### 1. Not enough data\n",
    "From the data collected from Foursquare, there are only 320 restaurants in Hong Kong. However, Hong Kong has many more restaurants that even for a district, it can have more than several hundreds of restaurants. Moreover, too little data volume may also cause a problem that it cannot reflect the actual favourite of people. As Hong Kong people seldom use Foursquare and there is only a little data, the data volume may not be large enough to reflect the result. To improve the result, we can try to get the data from OpenRice, which is a famous website in Hong Kong which includes most of the restaurants in Hong Kong with different ratings and comments. It may have a more detailed result for analysis.\n",
    "\n",
    "### 2. Other factors may also affect the decision\n",
    "In our problem, we only need to consider the location and food type for opening a restaurant. However, there are many factors that can affect the decision. For example, we may need to consider the price of the food, the quality, average income of customer, competitors, rent, etc. These all factors may affect the revenue of a restaurant and the answer can be totally different from the original one."
   ]
  },
  {
   "cell_type": "markdown",
   "metadata": {},
   "source": [
    "## Conclusion <a name=\"conclusion\"></a>"
   ]
  },
  {
   "cell_type": "markdown",
   "metadata": {},
   "source": [
    "To conclude, according to the result found and analysis made, Central will be a good place for opening a new restaurant with Chinese food.\n"
   ]
  },
  {
   "cell_type": "code",
   "execution_count": null,
   "metadata": {},
   "outputs": [],
   "source": []
  }
 ],
 "metadata": {
  "kernelspec": {
   "display_name": "Python 3",
   "language": "python",
   "name": "python3"
  },
  "language_info": {
   "codemirror_mode": {
    "name": "ipython",
    "version": 3
   },
   "file_extension": ".py",
   "mimetype": "text/x-python",
   "name": "python",
   "nbconvert_exporter": "python",
   "pygments_lexer": "ipython3",
   "version": "3.8.3"
  }
 },
 "nbformat": 4,
 "nbformat_minor": 4
}
